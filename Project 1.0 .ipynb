{
 "cells": [
  {
   "cell_type": "markdown",
   "id": "f412d63e",
   "metadata": {},
   "source": [
    "# create student marksheet"
   ]
  },
  {
   "cell_type": "code",
   "execution_count": 1,
   "id": "d6648f7f",
   "metadata": {},
   "outputs": [
    {
     "name": "stdout",
     "output_type": "stream",
     "text": [
      "enter your name:angela\n",
      "enter your standard:14\n",
      "enter division:a\n",
      "enter roll.no:22003\n",
      "enter maths marks: 78\n",
      "enter science marks:89\n",
      "enter english marks: 65\n",
      "enter total marks: 300\n",
      "total marks=232.00\n",
      "mark percentage=77.33\n",
      "thanks for your response.\n"
     ]
    }
   ],
   "source": [
    "name=str(input(\"enter your name:\"))\n",
    "std =str(input(\"enter your standard:\"))\n",
    "div =str(input (\"enter division:\"))\n",
    "num= int (input(\"enter roll.no:\"))\n",
    "a=float(input(\"enter maths marks: \"))\n",
    "b=float(input(\"enter science marks:\"))\n",
    "c=float(input(\"enter english marks: \"))\n",
    "d=float(input(\"enter total marks: \"))\n",
    "total=a+b+c\n",
    "percentage=(total/d)*100\n",
    "print(\"total marks=%.2f\" %total)\n",
    "print(\"mark percentage=%.2f\" %percentage)\n",
    "print(\"thanks for your response.\")"
   ]
  },
  {
   "cell_type": "code",
   "execution_count": null,
   "id": "e67c3e44",
   "metadata": {},
   "outputs": [],
   "source": []
  }
 ],
 "metadata": {
  "kernelspec": {
   "display_name": "Python 3",
   "language": "python",
   "name": "python3"
  },
  "language_info": {
   "codemirror_mode": {
    "name": "ipython",
    "version": 3
   },
   "file_extension": ".py",
   "mimetype": "text/x-python",
   "name": "python",
   "nbconvert_exporter": "python",
   "pygments_lexer": "ipython3",
   "version": "3.8.8"
  }
 },
 "nbformat": 4,
 "nbformat_minor": 5
}
